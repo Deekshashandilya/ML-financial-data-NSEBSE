{
 "cells": [
  {
   "cell_type": "markdown",
   "id": "042feed7",
   "metadata": {
    "papermill": {
     "duration": 0.004495,
     "end_time": "2024-01-02T01:41:07.637190",
     "exception": false,
     "start_time": "2024-01-02T01:41:07.632695",
     "status": "completed"
    },
    "tags": []
   },
   "source": [
    "### Note:- This notebook is incomplete for some time don't use it. \n",
    "### If you wants to use then you face some problem in data preprocessing."
   ]
  },
  {
   "cell_type": "code",
   "execution_count": 1,
   "id": "85b266b3",
   "metadata": {
    "_cell_guid": "b1076dfc-b9ad-4769-8c92-a6c4dae69d19",
    "_uuid": "8f2839f25d086af736a60e9eeb907d3b93b6e0e5",
    "execution": {
     "iopub.execute_input": "2024-01-02T01:41:07.647049Z",
     "iopub.status.busy": "2024-01-02T01:41:07.646691Z",
     "iopub.status.idle": "2024-01-02T01:41:08.013368Z",
     "shell.execute_reply": "2024-01-02T01:41:08.012353Z"
    },
    "papermill": {
     "duration": 0.374466,
     "end_time": "2024-01-02T01:41:08.015819",
     "exception": false,
     "start_time": "2024-01-02T01:41:07.641353",
     "status": "completed"
    },
    "tags": []
   },
   "outputs": [],
   "source": [
    "import numpy as np # linear algebra\n",
    "import pandas as pd # data processing, CSV file I/O (e.g. pd.read_csv)"
   ]
  },
  {
   "cell_type": "code",
   "execution_count": 2,
   "id": "b59b4e86",
   "metadata": {
    "execution": {
     "iopub.execute_input": "2024-01-02T01:41:08.025725Z",
     "iopub.status.busy": "2024-01-02T01:41:08.025244Z",
     "iopub.status.idle": "2024-01-02T01:41:08.116957Z",
     "shell.execute_reply": "2024-01-02T01:41:08.116196Z"
    },
    "papermill": {
     "duration": 0.099381,
     "end_time": "2024-01-02T01:41:08.119348",
     "exception": false,
     "start_time": "2024-01-02T01:41:08.019967",
     "status": "completed"
    },
    "tags": []
   },
   "outputs": [],
   "source": [
    "Info = pd.read_csv('/kaggle/input/detailed-financial-data-of-4456-nse-and-bse-company/Detailed-Financials-Data-Of-4456-NSE-And-BSE-Company-20231230T233228Z-001/Detailed-Financials-Data-Of-4456-NSE-_-BSE-Company/20 Microns Ltd/20 Microns Ltd_Basic_Info.csv')\n",
    "Quarterly_Profit_Loss = pd.read_csv('/kaggle/input/detailed-financial-data-of-4456-nse-and-bse-company/Detailed-Financials-Data-Of-4456-NSE-And-BSE-Company-20231230T233228Z-001/Detailed-Financials-Data-Of-4456-NSE-_-BSE-Company/20 Microns Ltd/Quarterly_Profit_Loss.csv')\n",
    "Quarterly_Shareholding_Pattern= pd.read_csv('/kaggle/input/detailed-financial-data-of-4456-nse-and-bse-company/Detailed-Financials-Data-Of-4456-NSE-And-BSE-Company-20231230T233228Z-001/Detailed-Financials-Data-Of-4456-NSE-_-BSE-Company/20 Microns Ltd/Quarterly_Shareholding_Pattern.csv')\n",
    "Ratios = pd.read_csv('/kaggle/input/detailed-financial-data-of-4456-nse-and-bse-company/Detailed-Financials-Data-Of-4456-NSE-And-BSE-Company-20231230T233228Z-001/Detailed-Financials-Data-Of-4456-NSE-_-BSE-Company/20 Microns Ltd/Ratios.csv')\n",
    "Yearly_Balance_Sheet = pd.read_csv('/kaggle/input/detailed-financial-data-of-4456-nse-and-bse-company/Detailed-Financials-Data-Of-4456-NSE-And-BSE-Company-20231230T233228Z-001/Detailed-Financials-Data-Of-4456-NSE-_-BSE-Company/20 Microns Ltd/Yearly_Balance_Sheet.csv')\n",
    "Yearly_Cash_flow = pd.read_csv('/kaggle/input/detailed-financial-data-of-4456-nse-and-bse-company/Detailed-Financials-Data-Of-4456-NSE-And-BSE-Company-20231230T233228Z-001/Detailed-Financials-Data-Of-4456-NSE-_-BSE-Company/20 Microns Ltd/Yearly_Cash_flow.csv')\n",
    "Yearly_Profit_Loss = pd.read_csv('/kaggle/input/detailed-financial-data-of-4456-nse-and-bse-company/Detailed-Financials-Data-Of-4456-NSE-And-BSE-Company-20231230T233228Z-001/Detailed-Financials-Data-Of-4456-NSE-_-BSE-Company/20 Microns Ltd/Yearly_Profit_Loss.csv')\n",
    "Yearly_Shareholding_Pattern = pd.read_csv('/kaggle/input/detailed-financial-data-of-4456-nse-and-bse-company/Detailed-Financials-Data-Of-4456-NSE-And-BSE-Company-20231230T233228Z-001/Detailed-Financials-Data-Of-4456-NSE-_-BSE-Company/20 Microns Ltd/Yearly_Shareholding_Pattern.csv')"
   ]
  },
  {
   "cell_type": "markdown",
   "id": "5dae0c93",
   "metadata": {
    "papermill": {
     "duration": 0.003756,
     "end_time": "2024-01-02T01:41:08.127424",
     "exception": false,
     "start_time": "2024-01-02T01:41:08.123668",
     "status": "completed"
    },
    "tags": []
   },
   "source": [
    "## Here we see all data are in which datatype and other info"
   ]
  },
  {
   "cell_type": "code",
   "execution_count": 3,
   "id": "7ea855ca",
   "metadata": {
    "execution": {
     "iopub.execute_input": "2024-01-02T01:41:08.137138Z",
     "iopub.status.busy": "2024-01-02T01:41:08.136558Z",
     "iopub.status.idle": "2024-01-02T01:41:08.168449Z",
     "shell.execute_reply": "2024-01-02T01:41:08.166879Z"
    },
    "papermill": {
     "duration": 0.039556,
     "end_time": "2024-01-02T01:41:08.170857",
     "exception": false,
     "start_time": "2024-01-02T01:41:08.131301",
     "status": "completed"
    },
    "tags": []
   },
   "outputs": [
    {
     "name": "stdout",
     "output_type": "stream",
     "text": [
      "<class 'pandas.core.frame.DataFrame'>\n",
      "RangeIndex: 1 entries, 0 to 0\n",
      "Data columns (total 32 columns):\n",
      " #   Column                 Non-Null Count  Dtype  \n",
      "---  ------                 --------------  -----  \n",
      " 0   Unnamed: 0             1 non-null      int64  \n",
      " 1   Company_name           1 non-null      object \n",
      " 2   Sector                 1 non-null      object \n",
      " 3   BSE                    1 non-null      int64  \n",
      " 4   NSE                    1 non-null      object \n",
      " 5   Market Cap             1 non-null      int64  \n",
      " 6   Current Price          1 non-null      int64  \n",
      " 7   High / Low             1 non-null      object \n",
      " 8   Stock P/E              1 non-null      float64\n",
      " 9   Book Value             1 non-null      float64\n",
      " 10  Dividend Yield         1 non-null      float64\n",
      " 11  ROCE                   1 non-null      float64\n",
      " 12  ROE                    1 non-null      float64\n",
      " 13  Face Value             1 non-null      float64\n",
      " 14  Price to Sales         1 non-null      float64\n",
      " 15  Sales growth           1 non-null      float64\n",
      " 16  Sales growth 3Years    1 non-null      float64\n",
      " 17  Sales growth 5Years    1 non-null      float64\n",
      " 18  Sales growth 7Years    1 non-null      float64\n",
      " 19  Sales growth 10Years   1 non-null      float64\n",
      " 20  Profit growth          1 non-null      float64\n",
      " 21  Profit growth 3Years   1 non-null      float64\n",
      " 22  Profit growth 5Years   1 non-null      float64\n",
      " 23  Profit growth 7Years   1 non-null      float64\n",
      " 24  Profit growth 10Years  1 non-null      float64\n",
      " 25  EPS                    1 non-null      float64\n",
      " 26  EPS last year          1 non-null      float64\n",
      " 27  Debt                   1 non-null      int64  \n",
      " 28  Debt 3Years back       1 non-null      int64  \n",
      " 29  Debt 5Years back       1 non-null      int64  \n",
      " 30  Debt 7Years back       1 non-null      int64  \n",
      " 31  Debt 10Years back      1 non-null      int64  \n",
      "dtypes: float64(19), int64(9), object(4)\n",
      "memory usage: 384.0+ bytes\n"
     ]
    }
   ],
   "source": [
    "Info.info()"
   ]
  },
  {
   "cell_type": "code",
   "execution_count": 4,
   "id": "0fe4c272",
   "metadata": {
    "execution": {
     "iopub.execute_input": "2024-01-02T01:41:08.181881Z",
     "iopub.status.busy": "2024-01-02T01:41:08.181507Z",
     "iopub.status.idle": "2024-01-02T01:41:08.192580Z",
     "shell.execute_reply": "2024-01-02T01:41:08.191577Z"
    },
    "papermill": {
     "duration": 0.019343,
     "end_time": "2024-01-02T01:41:08.195069",
     "exception": false,
     "start_time": "2024-01-02T01:41:08.175726",
     "status": "completed"
    },
    "tags": []
   },
   "outputs": [
    {
     "name": "stdout",
     "output_type": "stream",
     "text": [
      "<class 'pandas.core.frame.DataFrame'>\n",
      "RangeIndex: 11 entries, 0 to 10\n",
      "Data columns (total 14 columns):\n",
      " #   Column      Non-Null Count  Dtype  \n",
      "---  ------      --------------  -----  \n",
      " 0   Unnamed: 0  11 non-null     object \n",
      " 1   2020-09-01  11 non-null     float64\n",
      " 2   2020-12-01  11 non-null     float64\n",
      " 3   2021-03-01  11 non-null     float64\n",
      " 4   2021-06-01  11 non-null     float64\n",
      " 5   2021-09-01  11 non-null     float64\n",
      " 6   2021-12-01  11 non-null     float64\n",
      " 7   2022-03-01  11 non-null     float64\n",
      " 8   2022-06-01  11 non-null     float64\n",
      " 9   2022-09-01  11 non-null     float64\n",
      " 10  2022-12-01  11 non-null     float64\n",
      " 11  2023-03-01  11 non-null     float64\n",
      " 12  2023-06-01  11 non-null     float64\n",
      " 13  2023-09-01  11 non-null     float64\n",
      "dtypes: float64(13), object(1)\n",
      "memory usage: 1.3+ KB\n"
     ]
    }
   ],
   "source": [
    "Quarterly_Profit_Loss.info()"
   ]
  },
  {
   "cell_type": "code",
   "execution_count": 5,
   "id": "7c595ee9",
   "metadata": {
    "execution": {
     "iopub.execute_input": "2024-01-02T01:41:08.205294Z",
     "iopub.status.busy": "2024-01-02T01:41:08.204923Z",
     "iopub.status.idle": "2024-01-02T01:41:08.215945Z",
     "shell.execute_reply": "2024-01-02T01:41:08.214724Z"
    },
    "papermill": {
     "duration": 0.018701,
     "end_time": "2024-01-02T01:41:08.218071",
     "exception": false,
     "start_time": "2024-01-02T01:41:08.199370",
     "status": "completed"
    },
    "tags": []
   },
   "outputs": [
    {
     "name": "stdout",
     "output_type": "stream",
     "text": [
      "<class 'pandas.core.frame.DataFrame'>\n",
      "RangeIndex: 5 entries, 0 to 4\n",
      "Data columns (total 13 columns):\n",
      " #   Column      Non-Null Count  Dtype  \n",
      "---  ------      --------------  -----  \n",
      " 0   Unnamed: 0  5 non-null      object \n",
      " 1   2020-12-01  5 non-null      float64\n",
      " 2   2021-03-01  5 non-null      float64\n",
      " 3   2021-06-01  5 non-null      float64\n",
      " 4   2021-09-01  5 non-null      float64\n",
      " 5   2021-12-01  5 non-null      float64\n",
      " 6   2022-03-01  5 non-null      float64\n",
      " 7   2022-06-01  5 non-null      float64\n",
      " 8   2022-09-01  5 non-null      float64\n",
      " 9   2022-12-01  5 non-null      float64\n",
      " 10  2023-03-01  5 non-null      float64\n",
      " 11  2023-06-01  5 non-null      float64\n",
      " 12  2023-09-01  5 non-null      float64\n",
      "dtypes: float64(12), object(1)\n",
      "memory usage: 648.0+ bytes\n"
     ]
    }
   ],
   "source": [
    "Quarterly_Shareholding_Pattern.info()"
   ]
  },
  {
   "cell_type": "code",
   "execution_count": 6,
   "id": "359f245a",
   "metadata": {
    "execution": {
     "iopub.execute_input": "2024-01-02T01:41:08.228845Z",
     "iopub.status.busy": "2024-01-02T01:41:08.228280Z",
     "iopub.status.idle": "2024-01-02T01:41:08.239186Z",
     "shell.execute_reply": "2024-01-02T01:41:08.237946Z"
    },
    "papermill": {
     "duration": 0.018608,
     "end_time": "2024-01-02T01:41:08.241252",
     "exception": false,
     "start_time": "2024-01-02T01:41:08.222644",
     "status": "completed"
    },
    "tags": []
   },
   "outputs": [
    {
     "name": "stdout",
     "output_type": "stream",
     "text": [
      "<class 'pandas.core.frame.DataFrame'>\n",
      "RangeIndex: 6 entries, 0 to 5\n",
      "Data columns (total 13 columns):\n",
      " #   Column      Non-Null Count  Dtype \n",
      "---  ------      --------------  ----- \n",
      " 0   Unnamed: 0  6 non-null      object\n",
      " 1   2012-03-01  6 non-null      int64 \n",
      " 2   2013-03-01  6 non-null      int64 \n",
      " 3   2014-03-01  6 non-null      int64 \n",
      " 4   2015-03-01  6 non-null      int64 \n",
      " 5   2016-03-01  6 non-null      int64 \n",
      " 6   2017-03-01  6 non-null      int64 \n",
      " 7   2018-03-01  6 non-null      int64 \n",
      " 8   2019-03-01  6 non-null      int64 \n",
      " 9   2020-03-01  6 non-null      int64 \n",
      " 10  2021-03-01  6 non-null      int64 \n",
      " 11  2022-03-01  6 non-null      int64 \n",
      " 12  2023-03-01  6 non-null      int64 \n",
      "dtypes: int64(12), object(1)\n",
      "memory usage: 752.0+ bytes\n"
     ]
    }
   ],
   "source": [
    "Ratios.info()"
   ]
  },
  {
   "cell_type": "code",
   "execution_count": 7,
   "id": "de759521",
   "metadata": {
    "execution": {
     "iopub.execute_input": "2024-01-02T01:41:08.251765Z",
     "iopub.status.busy": "2024-01-02T01:41:08.251456Z",
     "iopub.status.idle": "2024-01-02T01:41:08.261800Z",
     "shell.execute_reply": "2024-01-02T01:41:08.260837Z"
    },
    "papermill": {
     "duration": 0.018782,
     "end_time": "2024-01-02T01:41:08.264596",
     "exception": false,
     "start_time": "2024-01-02T01:41:08.245814",
     "status": "completed"
    },
    "tags": []
   },
   "outputs": [
    {
     "name": "stdout",
     "output_type": "stream",
     "text": [
      "<class 'pandas.core.frame.DataFrame'>\n",
      "RangeIndex: 10 entries, 0 to 9\n",
      "Data columns (total 14 columns):\n",
      " #   Column      Non-Null Count  Dtype \n",
      "---  ------      --------------  ----- \n",
      " 0   Unnamed: 0  10 non-null     object\n",
      " 1   2012-03-01  10 non-null     int64 \n",
      " 2   2013-03-01  10 non-null     int64 \n",
      " 3   2014-03-01  10 non-null     int64 \n",
      " 4   2015-03-01  10 non-null     int64 \n",
      " 5   2016-03-01  10 non-null     int64 \n",
      " 6   2017-03-01  10 non-null     int64 \n",
      " 7   2018-03-01  10 non-null     int64 \n",
      " 8   2019-03-01  10 non-null     int64 \n",
      " 9   2020-03-01  10 non-null     int64 \n",
      " 10  2021-03-01  10 non-null     int64 \n",
      " 11  2022-03-01  10 non-null     int64 \n",
      " 12  2023-03-01  10 non-null     int64 \n",
      " 13  2023-09-01  10 non-null     int64 \n",
      "dtypes: int64(13), object(1)\n",
      "memory usage: 1.2+ KB\n"
     ]
    }
   ],
   "source": [
    "Yearly_Balance_Sheet.info()"
   ]
  },
  {
   "cell_type": "code",
   "execution_count": 8,
   "id": "6d93f3e1",
   "metadata": {
    "execution": {
     "iopub.execute_input": "2024-01-02T01:41:08.275947Z",
     "iopub.status.busy": "2024-01-02T01:41:08.275594Z",
     "iopub.status.idle": "2024-01-02T01:41:08.286099Z",
     "shell.execute_reply": "2024-01-02T01:41:08.285411Z"
    },
    "papermill": {
     "duration": 0.018824,
     "end_time": "2024-01-02T01:41:08.288231",
     "exception": false,
     "start_time": "2024-01-02T01:41:08.269407",
     "status": "completed"
    },
    "tags": []
   },
   "outputs": [
    {
     "name": "stdout",
     "output_type": "stream",
     "text": [
      "<class 'pandas.core.frame.DataFrame'>\n",
      "RangeIndex: 4 entries, 0 to 3\n",
      "Data columns (total 13 columns):\n",
      " #   Column      Non-Null Count  Dtype \n",
      "---  ------      --------------  ----- \n",
      " 0   Unnamed: 0  4 non-null      object\n",
      " 1   2012-03-01  4 non-null      int64 \n",
      " 2   2013-03-01  4 non-null      int64 \n",
      " 3   2014-03-01  4 non-null      int64 \n",
      " 4   2015-03-01  4 non-null      int64 \n",
      " 5   2016-03-01  4 non-null      int64 \n",
      " 6   2017-03-01  4 non-null      int64 \n",
      " 7   2018-03-01  4 non-null      int64 \n",
      " 8   2019-03-01  4 non-null      int64 \n",
      " 9   2020-03-01  4 non-null      int64 \n",
      " 10  2021-03-01  4 non-null      int64 \n",
      " 11  2022-03-01  4 non-null      int64 \n",
      " 12  2023-03-01  4 non-null      int64 \n",
      "dtypes: int64(12), object(1)\n",
      "memory usage: 544.0+ bytes\n"
     ]
    }
   ],
   "source": [
    "Yearly_Cash_flow.info()"
   ]
  },
  {
   "cell_type": "code",
   "execution_count": 9,
   "id": "c78c066b",
   "metadata": {
    "execution": {
     "iopub.execute_input": "2024-01-02T01:41:08.299445Z",
     "iopub.status.busy": "2024-01-02T01:41:08.299092Z",
     "iopub.status.idle": "2024-01-02T01:41:08.310026Z",
     "shell.execute_reply": "2024-01-02T01:41:08.309047Z"
    },
    "papermill": {
     "duration": 0.019218,
     "end_time": "2024-01-02T01:41:08.312263",
     "exception": false,
     "start_time": "2024-01-02T01:41:08.293045",
     "status": "completed"
    },
    "tags": []
   },
   "outputs": [
    {
     "name": "stdout",
     "output_type": "stream",
     "text": [
      "<class 'pandas.core.frame.DataFrame'>\n",
      "RangeIndex: 11 entries, 0 to 10\n",
      "Data columns (total 14 columns):\n",
      " #   Column      Non-Null Count  Dtype  \n",
      "---  ------      --------------  -----  \n",
      " 0   Unnamed: 0  11 non-null     object \n",
      " 1   Mar 2012    11 non-null     float64\n",
      " 2   Mar 2013    11 non-null     float64\n",
      " 3   Mar 2014    11 non-null     float64\n",
      " 4   Mar 2015    11 non-null     float64\n",
      " 5   Mar 2016    11 non-null     float64\n",
      " 6   Mar 2017    11 non-null     float64\n",
      " 7   Mar 2018    11 non-null     float64\n",
      " 8   Mar 2019    11 non-null     float64\n",
      " 9   Mar 2020    11 non-null     float64\n",
      " 10  Mar 2021    11 non-null     float64\n",
      " 11  Mar 2022    11 non-null     float64\n",
      " 12  Mar 2023    11 non-null     float64\n",
      " 13  TTM         10 non-null     float64\n",
      "dtypes: float64(13), object(1)\n",
      "memory usage: 1.3+ KB\n"
     ]
    }
   ],
   "source": [
    "Yearly_Profit_Loss.info()"
   ]
  },
  {
   "cell_type": "code",
   "execution_count": 10,
   "id": "ba2759e8",
   "metadata": {
    "execution": {
     "iopub.execute_input": "2024-01-02T01:41:08.324347Z",
     "iopub.status.busy": "2024-01-02T01:41:08.323966Z",
     "iopub.status.idle": "2024-01-02T01:41:08.335221Z",
     "shell.execute_reply": "2024-01-02T01:41:08.334250Z"
    },
    "papermill": {
     "duration": 0.020016,
     "end_time": "2024-01-02T01:41:08.337429",
     "exception": false,
     "start_time": "2024-01-02T01:41:08.317413",
     "status": "completed"
    },
    "tags": []
   },
   "outputs": [
    {
     "name": "stdout",
     "output_type": "stream",
     "text": [
      "<class 'pandas.core.frame.DataFrame'>\n",
      "RangeIndex: 5 entries, 0 to 4\n",
      "Data columns (total 9 columns):\n",
      " #   Column      Non-Null Count  Dtype  \n",
      "---  ------      --------------  -----  \n",
      " 0   Unnamed: 0  5 non-null      object \n",
      " 1   2017-03-01  5 non-null      float64\n",
      " 2   2018-03-01  5 non-null      float64\n",
      " 3   2019-03-01  5 non-null      float64\n",
      " 4   2020-03-01  5 non-null      float64\n",
      " 5   2021-03-01  5 non-null      float64\n",
      " 6   2022-03-01  5 non-null      float64\n",
      " 7   2023-03-01  5 non-null      float64\n",
      " 8   2023-09-01  5 non-null      float64\n",
      "dtypes: float64(8), object(1)\n",
      "memory usage: 488.0+ bytes\n"
     ]
    }
   ],
   "source": [
    "Yearly_Shareholding_Pattern.info()"
   ]
  },
  {
   "cell_type": "markdown",
   "id": "076fff46",
   "metadata": {
    "papermill": {
     "duration": 0.004825,
     "end_time": "2024-01-02T01:41:08.347396",
     "exception": false,
     "start_time": "2024-01-02T01:41:08.342571",
     "status": "completed"
    },
    "tags": []
   },
   "source": [
    "#### Almost all the data are in float64 and int64"
   ]
  },
  {
   "cell_type": "code",
   "execution_count": 11,
   "id": "c975819e",
   "metadata": {
    "execution": {
     "iopub.execute_input": "2024-01-02T01:41:08.361358Z",
     "iopub.status.busy": "2024-01-02T01:41:08.360981Z",
     "iopub.status.idle": "2024-01-02T01:41:12.541310Z",
     "shell.execute_reply": "2024-01-02T01:41:12.540243Z"
    },
    "papermill": {
     "duration": 4.189611,
     "end_time": "2024-01-02T01:41:12.544251",
     "exception": false,
     "start_time": "2024-01-02T01:41:08.354640",
     "status": "completed"
    },
    "tags": []
   },
   "outputs": [
    {
     "name": "stderr",
     "output_type": "stream",
     "text": [
      "/opt/conda/lib/python3.10/site-packages/numba/core/decorators.py:262: NumbaDeprecationWarning: \u001b[1mnumba.generated_jit is deprecated. Please see the documentation at: https://numba.readthedocs.io/en/stable/reference/deprecation.html#deprecation-of-generated-jit for more information and advice on a suitable replacement.\u001b[0m\n",
      "  warnings.warn(msg, NumbaDeprecationWarning)\n",
      "/opt/conda/lib/python3.10/site-packages/visions/backends/shared/nan_handling.py:51: NumbaDeprecationWarning: \u001b[1mThe 'nopython' keyword argument was not supplied to the 'numba.jit' decorator. The implicit default value for this argument is currently False, but it will be changed to True in Numba 0.59.0. See https://numba.readthedocs.io/en/stable/reference/deprecation.html#deprecation-of-object-mode-fall-back-behaviour-when-using-jit for details.\u001b[0m\n",
      "  def hasna(x: np.ndarray) -> bool:\n"
     ]
    }
   ],
   "source": [
    "from ydata_profiling import ProfileReport"
   ]
  },
  {
   "cell_type": "code",
   "execution_count": 12,
   "id": "ad955637",
   "metadata": {
    "execution": {
     "iopub.execute_input": "2024-01-02T01:41:12.557273Z",
     "iopub.status.busy": "2024-01-02T01:41:12.556657Z",
     "iopub.status.idle": "2024-01-02T01:41:12.647291Z",
     "shell.execute_reply": "2024-01-02T01:41:12.645962Z"
    },
    "papermill": {
     "duration": 0.100209,
     "end_time": "2024-01-02T01:41:12.649842",
     "exception": false,
     "start_time": "2024-01-02T01:41:12.549633",
     "status": "completed"
    },
    "tags": []
   },
   "outputs": [],
   "source": [
    "Info_Report = ProfileReport(Info, title = \"Report for Info\")\n",
    "Quarterly_Profit_Loss_Report = ProfileReport(Quarterly_Profit_Loss, title = \"Report for Quarterly Profit Loss\")\n",
    "Quarterly_Shareholding_Pattern_Report = ProfileReport(Ratios, title = \"Report for Quarterly_Shareholding_Pattern\")\n",
    "Ratios_Report = ProfileReport(Yearly_Shareholding_Pattern, title = \"Report for Ratios\")\n",
    "Yearly_Balance_Sheet_Report = ProfileReport(Yearly_Balance_Sheet, title = \"Report for Yearly_Balance_Sheet\")\n",
    "Yearly_Cash_flow_Report = ProfileReport(Yearly_Cash_flow, title = \"Report for Yearly Shareholding Pattern\")\n",
    "Yearly_Profit_Loss_Report = ProfileReport(Yearly_Shareholding_Pattern, title = \"Report for Yearly Shareholding Pattern\")\n",
    "Yearly_Shareholding_Pattern_Report = ProfileReport(Yearly_Shareholding_Pattern, title = \"Report for Yearly Shareholding Pattern\")"
   ]
  },
  {
   "cell_type": "markdown",
   "id": "c1e25f69",
   "metadata": {
    "papermill": {
     "duration": 0.005051,
     "end_time": "2024-01-02T01:41:12.660478",
     "exception": false,
     "start_time": "2024-01-02T01:41:12.655427",
     "status": "completed"
    },
    "tags": []
   },
   "source": [
    "### uncomment this for see eda profile online"
   ]
  },
  {
   "cell_type": "code",
   "execution_count": 13,
   "id": "7f3018df",
   "metadata": {
    "execution": {
     "iopub.execute_input": "2024-01-02T01:41:12.672638Z",
     "iopub.status.busy": "2024-01-02T01:41:12.672247Z",
     "iopub.status.idle": "2024-01-02T01:41:12.676906Z",
     "shell.execute_reply": "2024-01-02T01:41:12.675903Z"
    },
    "papermill": {
     "duration": 0.013293,
     "end_time": "2024-01-02T01:41:12.679132",
     "exception": false,
     "start_time": "2024-01-02T01:41:12.665839",
     "status": "completed"
    },
    "tags": []
   },
   "outputs": [],
   "source": [
    "# Info_Report.to_notebook_iframe()\n",
    "# Quarterly_Profit_Loss_Report.to_notebook_iframe()\n",
    "# Quarterly_Shareholding_Pattern_Report.to_notebook_iframe()\n",
    "# Ratios_Report.to_notebook_iframe()\n",
    "# Yearly_Balance_Sheet_Report.to_notebook_iframe()\n",
    "# Yearly_Cash_flow_Report.to_notebook_iframe()\n",
    "# Yearly_Profit_Loss_Report.to_notebook_iframe()\n",
    "# Yearly_Shareholding_Pattern_Report.to_notebook_iframe()"
   ]
  },
  {
   "cell_type": "markdown",
   "id": "fccb4c20",
   "metadata": {
    "papermill": {
     "duration": 0.005022,
     "end_time": "2024-01-02T01:41:12.689778",
     "exception": false,
     "start_time": "2024-01-02T01:41:12.684756",
     "status": "completed"
    },
    "tags": []
   },
   "source": [
    "### uncomment this for see eda profile offline"
   ]
  },
  {
   "cell_type": "code",
   "execution_count": 14,
   "id": "eb58db6f",
   "metadata": {
    "execution": {
     "iopub.execute_input": "2024-01-02T01:41:12.701953Z",
     "iopub.status.busy": "2024-01-02T01:41:12.701561Z",
     "iopub.status.idle": "2024-01-02T01:41:12.706453Z",
     "shell.execute_reply": "2024-01-02T01:41:12.705394Z"
    },
    "papermill": {
     "duration": 0.013469,
     "end_time": "2024-01-02T01:41:12.708501",
     "exception": false,
     "start_time": "2024-01-02T01:41:12.695032",
     "status": "completed"
    },
    "tags": []
   },
   "outputs": [],
   "source": [
    "# Info_Report.to_file('Info.html')\n",
    "# Quarterly_Profit_Loss_Report.to_file('Quarterly_Profit_Loss_Report.html')\n",
    "# Quarterly_Shareholding_Pattern_Report.to_file('Quarterly_Shareholding_Pattern_Report.html')\n",
    "# Ratios_Report.to_file('Ratios_Report.html')\n",
    "# Yearly_Balance_Sheet_Report.to_file('Yearly_Balance_Sheet_Report.html')\n",
    "# Yearly_Cash_flow_Report.to_file('Yearly_Cash_flow_Report.html')\n",
    "# Yearly_Profit_Loss_Report.to_file('Yearly_Profit_Loss_Report.html')\n",
    "# Yearly_Shareholding_Pattern_Report.to_file('Yearly_Shareholding_Pattern_Report.html')"
   ]
  }
 ],
 "metadata": {
  "kaggle": {
   "accelerator": "none",
   "dataSources": [
    {
     "datasetId": 4233664,
     "sourceId": 7318848,
     "sourceType": "datasetVersion"
    }
   ],
   "dockerImageVersionId": 30626,
   "isGpuEnabled": false,
   "isInternetEnabled": true,
   "language": "python",
   "sourceType": "notebook"
  },
  "kernelspec": {
   "display_name": "Python 3",
   "language": "python",
   "name": "python3"
  },
  "language_info": {
   "codemirror_mode": {
    "name": "ipython",
    "version": 3
   },
   "file_extension": ".py",
   "mimetype": "text/x-python",
   "name": "python",
   "nbconvert_exporter": "python",
   "pygments_lexer": "ipython3",
   "version": "3.10.12"
  },
  "papermill": {
   "default_parameters": {},
   "duration": 8.747429,
   "end_time": "2024-01-02T01:41:13.433962",
   "environment_variables": {},
   "exception": null,
   "input_path": "__notebook__.ipynb",
   "output_path": "__notebook__.ipynb",
   "parameters": {},
   "start_time": "2024-01-02T01:41:04.686533",
   "version": "2.4.0"
  }
 },
 "nbformat": 4,
 "nbformat_minor": 5
}
